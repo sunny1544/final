{
 "cells": [
  {
   "cell_type": "code",
   "execution_count": 4,
   "metadata": {},
   "outputs": [],
   "source": [
    "#!/usr/bin/env python\n",
    "# coding: utf-8\n",
    "\n",
    "# In[ ]:\n",
    "\n",
    "\n",
    "import configparser\n",
    "import json\n",
    "import logging\n",
    "import time\n",
    "from hashlib import md5\n",
    "import requests\n",
    "config = configparser.ConfigParser()\n",
    "config.read('config.ini')\n",
    "logger = logging.getLogger(__name__)\n",
    "class NliStatusError(Exception):\n",
    "    \"\"\"The NLI result status is not 'ok'\"\"\"\n",
    "class Olami:\n",
    "    URL = 'https://tw.olami.ai/cloudservice/api'\n",
    "    def __init__(self, app_key=config['OLAMI']['APP_KEY'], app_secret=config['OLAMI']['APP_SECRET'], input_type=1):\n",
    "            self.app_key = app_key\n",
    "            self.app_secret = app_secret\n",
    "            self.input_type = input_type\n",
    "    def nli(self, text, cusid=None):\n",
    "            response = requests.post(self.URL, params=self._gen_parameters('nli', text, cusid))\n",
    "            response.raise_for_status()\n",
    "            response_json = response.json()\n",
    "            if response_json['status'] != 'ok':\n",
    "                raise NliStatusError(\"NLI responded status != 'ok': {}\".format(response_json['status']))\n",
    "            else:\n",
    "                return response_json['data']['nli'][0]['desc_obj']['result']\n",
    "    def _gen_parameters(self, api, text, cusid):\n",
    "            timestamp_ms = (int(time.time() * 1000))\n",
    "            params = {'appkey': self.app_key,\n",
    "                      'api': api,\n",
    "                      'timestamp': timestamp_ms,\n",
    "                      'sign': self._gen_sign(api, timestamp_ms),\n",
    "                      'rq': self._gen_rq(text)}\n",
    "            if cusid is not None:\n",
    "                params.update(cusid=cusid)\n",
    "            return params\n",
    "    def _gen_sign(self, api, timestamp_ms):\n",
    "            data = self.app_secret + 'api=' + api + 'appkey=' + self.app_key + 'timestamp=' +                str(timestamp_ms) + self.app_secret\n",
    "            return md5(data.encode('ascii')).hexdigest()\n",
    "    def _gen_rq(self, text):\n",
    "            obj = {'data_type': 'stt', 'data': {'input_type': self.input_type, 'text': text}}\n",
    "            return json.dumps(obj)\n"
   ]
  },
  {
   "cell_type": "code",
   "execution_count": null,
   "metadata": {},
   "outputs": [],
   "source": []
  },
  {
   "cell_type": "code",
   "execution_count": null,
   "metadata": {},
   "outputs": [],
   "source": []
  }
 ],
 "metadata": {
  "kernelspec": {
   "display_name": "Python 3",
   "language": "python",
   "name": "python3"
  },
  "language_info": {
   "codemirror_mode": {
    "name": "ipython",
    "version": 3
   },
   "file_extension": ".py",
   "mimetype": "text/x-python",
   "name": "python",
   "nbconvert_exporter": "python",
   "pygments_lexer": "ipython3",
   "version": "3.8.5"
  }
 },
 "nbformat": 4,
 "nbformat_minor": 4
}
